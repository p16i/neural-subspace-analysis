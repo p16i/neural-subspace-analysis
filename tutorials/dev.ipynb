{
  "cells": [
    {
      "cell_type": "code",
      "execution_count": 1,
      "metadata": {
        "id": "0n9wiURv-z5Z"
      },
      "outputs": [
        {
          "name": "stderr",
          "output_type": "stream",
          "text": [
            "/home/pat/projects/neural-subspace-analysis/nsa/estimators.py:7: TqdmExperimentalWarning: Using `tqdm.autonotebook.tqdm` in notebook mode. Use `tqdm.tqdm` instead to force console mode (e.g. in jupyter console)\n",
            "  from tqdm.autonotebook import tqdm\n"
          ]
        }
      ],
      "source": [
        "from nsa import estimators\n",
        "from nsa import utils, evaluators\n",
        "\n",
        "from torchvision.models import resnet18, vit_b_16"
      ]
    },
    {
      "cell_type": "code",
      "execution_count": 2,
      "metadata": {
        "id": "6f7cfa78"
      },
      "outputs": [
        {
          "name": "stdout",
          "output_type": "stream",
          "text": [
            "TensorDataset created with data shape: torch.Size([10, 3, 224, 224])\n",
            "DataLoader created with batch size: 2\n"
          ]
        }
      ],
      "source": [
        "import torch\n",
        "from torch.utils.data import TensorDataset, DataLoader\n",
        "\n",
        "# Create random data\n",
        "x = torch.randn(10, 3, 224, 224)\n",
        "y = torch.randint(0, 1000, (10,))\n",
        "\n",
        "# Create a TensorDataset\n",
        "dataset = TensorDataset(x,y)\n",
        "\n",
        "# Create a DataLoader\n",
        "dataloader = DataLoader(dataset, batch_size=2) # You can adjust the batch size\n",
        "\n",
        "print(\"TensorDataset created with data shape:\", dataset.tensors[0].shape)\n",
        "print(\"DataLoader created with batch size:\", dataloader.batch_size)"
      ]
    },
    {
      "cell_type": "code",
      "execution_count": null,
      "metadata": {
        "id": "VizI3eWzCMnj"
      },
      "outputs": [],
      "source": []
    },
    {
      "cell_type": "markdown",
      "metadata": {
        "id": "3C8d-1FPW-QK"
      },
      "source": [
        "# CNNs (ResNet18)"
      ]
    },
    {
      "cell_type": "code",
      "execution_count": 3,
      "metadata": {
        "id": "EGADumbeXDv-"
      },
      "outputs": [
        {
          "data": {
            "application/vnd.jupyter.widget-view+json": {
              "model_id": "d9415c0f84144642a48b36976aa40de5",
              "version_major": 2,
              "version_minor": 0
            },
            "text/plain": [
              "[layer=layer1] estimating covariance matrix:   0%|          | 0/5 [00:00<?, ?it/s]"
            ]
          },
          "metadata": {},
          "output_type": "display_data"
        },
        {
          "data": {
            "application/vnd.jupyter.widget-view+json": {
              "model_id": "78ae54ae1c624520b556dc118083ded8",
              "version_major": 2,
              "version_minor": 0
            },
            "text/plain": [
              "[layer=layer1] evaluating reconstruction error:   0%|          | 0/5 [00:00<?, ?it/s]"
            ]
          },
          "metadata": {},
          "output_type": "display_data"
        },
        {
          "data": {
            "application/vnd.jupyter.widget-view+json": {
              "model_id": "fcd880f219d64ecc90c99a0aa044184b",
              "version_major": 2,
              "version_minor": 0
            },
            "text/plain": [
              "[layer=layer1] evaluating accuracy:   0%|          | 0/5 [00:00<?, ?it/s]"
            ]
          },
          "metadata": {},
          "output_type": "display_data"
        }
      ],
      "source": [
        "def ano():\n",
        "\n",
        "    model = resnet18()\n",
        "\n",
        "    cov = estimators.estimate_cov_mat_at_layer(\n",
        "        model=model,\n",
        "        layer=\"layer1\",\n",
        "        dataloader=dataloader,\n",
        "        device=\"cpu\",\n",
        "    )\n",
        "\n",
        "    eigvals, eigvecs = utils.eigh(cov)\n",
        "\n",
        "    eval_recon = evaluators.ReconstructionErrorWithLowRankProjectionEvaluator()\n",
        "\n",
        "    df1 = eval_recon.evaluate(model=model, layer=\"layer1\", dataloader=dataloader, U=eigvecs, arr_ks=[1, 5, 32, 64])\n",
        "\n",
        "    eval_acc = evaluators.AccuracyWithLowRankProjectionEvaluator(num_classes=1000)\n",
        "    df2 = eval_acc.evaluate(model=model, layer=\"layer1\", dataloader=dataloader, U=eigvecs, arr_ks=[1, 5, 32, 64])\n",
        "\n",
        "    return df1, df2\n",
        "\n",
        "df1, df2 = ano()"
      ]
    },
    {
      "cell_type": "code",
      "execution_count": 4,
      "metadata": {
        "id": "i3pqI2t8CE17"
      },
      "outputs": [
        {
          "data": {
            "text/html": [
              "<div>\n",
              "<style scoped>\n",
              "    .dataframe tbody tr th:only-of-type {\n",
              "        vertical-align: middle;\n",
              "    }\n",
              "\n",
              "    .dataframe tbody tr th {\n",
              "        vertical-align: top;\n",
              "    }\n",
              "\n",
              "    .dataframe thead th {\n",
              "        text-align: right;\n",
              "    }\n",
              "</style>\n",
              "<table border=\"1\" class=\"dataframe\">\n",
              "  <thead>\n",
              "    <tr style=\"text-align: right;\">\n",
              "      <th></th>\n",
              "      <th>k</th>\n",
              "      <th>norm</th>\n",
              "      <th>recon_err</th>\n",
              "      <th>cossim</th>\n",
              "      <th>d</th>\n",
              "    </tr>\n",
              "  </thead>\n",
              "  <tbody>\n",
              "    <tr>\n",
              "      <th>0</th>\n",
              "      <td>1</td>\n",
              "      <td>15.076886</td>\n",
              "      <td>2.670829</td>\n",
              "      <td>0.984690</td>\n",
              "      <td>64</td>\n",
              "    </tr>\n",
              "    <tr>\n",
              "      <th>1</th>\n",
              "      <td>5</td>\n",
              "      <td>15.076886</td>\n",
              "      <td>2.605247</td>\n",
              "      <td>0.985291</td>\n",
              "      <td>64</td>\n",
              "    </tr>\n",
              "    <tr>\n",
              "      <th>2</th>\n",
              "      <td>32</td>\n",
              "      <td>15.076886</td>\n",
              "      <td>2.252571</td>\n",
              "      <td>0.988957</td>\n",
              "      <td>64</td>\n",
              "    </tr>\n",
              "    <tr>\n",
              "      <th>3</th>\n",
              "      <td>64</td>\n",
              "      <td>15.076886</td>\n",
              "      <td>0.000009</td>\n",
              "      <td>1.000000</td>\n",
              "      <td>64</td>\n",
              "    </tr>\n",
              "  </tbody>\n",
              "</table>\n",
              "</div>"
            ],
            "text/plain": [
              "    k       norm  recon_err    cossim   d\n",
              "0   1  15.076886   2.670829  0.984690  64\n",
              "1   5  15.076886   2.605247  0.985291  64\n",
              "2  32  15.076886   2.252571  0.988957  64\n",
              "3  64  15.076886   0.000009  1.000000  64"
            ]
          },
          "execution_count": 4,
          "metadata": {},
          "output_type": "execute_result"
        }
      ],
      "source": [
        "df1"
      ]
    },
    {
      "cell_type": "code",
      "execution_count": 5,
      "metadata": {
        "id": "2oa4PG2tC4LC"
      },
      "outputs": [
        {
          "data": {
            "text/html": [
              "<div>\n",
              "<style scoped>\n",
              "    .dataframe tbody tr th:only-of-type {\n",
              "        vertical-align: middle;\n",
              "    }\n",
              "\n",
              "    .dataframe tbody tr th {\n",
              "        vertical-align: top;\n",
              "    }\n",
              "\n",
              "    .dataframe thead th {\n",
              "        text-align: right;\n",
              "    }\n",
              "</style>\n",
              "<table border=\"1\" class=\"dataframe\">\n",
              "  <thead>\n",
              "    <tr style=\"text-align: right;\">\n",
              "      <th></th>\n",
              "      <th>k</th>\n",
              "      <th>acc</th>\n",
              "      <th>xent</th>\n",
              "      <th>d</th>\n",
              "    </tr>\n",
              "  </thead>\n",
              "  <tbody>\n",
              "    <tr>\n",
              "      <th>0</th>\n",
              "      <td>1</td>\n",
              "      <td>0.0</td>\n",
              "      <td>7.136613</td>\n",
              "      <td>64</td>\n",
              "    </tr>\n",
              "    <tr>\n",
              "      <th>1</th>\n",
              "      <td>5</td>\n",
              "      <td>0.0</td>\n",
              "      <td>7.160556</td>\n",
              "      <td>64</td>\n",
              "    </tr>\n",
              "    <tr>\n",
              "      <th>2</th>\n",
              "      <td>32</td>\n",
              "      <td>0.0</td>\n",
              "      <td>7.113336</td>\n",
              "      <td>64</td>\n",
              "    </tr>\n",
              "    <tr>\n",
              "      <th>3</th>\n",
              "      <td>64</td>\n",
              "      <td>0.0</td>\n",
              "      <td>7.141576</td>\n",
              "      <td>64</td>\n",
              "    </tr>\n",
              "  </tbody>\n",
              "</table>\n",
              "</div>"
            ],
            "text/plain": [
              "    k  acc      xent   d\n",
              "0   1  0.0  7.136613  64\n",
              "1   5  0.0  7.160556  64\n",
              "2  32  0.0  7.113336  64\n",
              "3  64  0.0  7.141576  64"
            ]
          },
          "execution_count": 5,
          "metadata": {},
          "output_type": "execute_result"
        }
      ],
      "source": [
        "df2"
      ]
    },
    {
      "cell_type": "markdown",
      "metadata": {
        "id": "uzmyUnN9Xkx3"
      },
      "source": [
        "# ViTs"
      ]
    },
    {
      "cell_type": "code",
      "execution_count": 6,
      "metadata": {
        "id": "W-jpkO1STzyj"
      },
      "outputs": [
        {
          "data": {
            "application/vnd.jupyter.widget-view+json": {
              "model_id": "025206491cf14a20ad6ac31621b0a5a9",
              "version_major": 2,
              "version_minor": 0
            },
            "text/plain": [
              "[layer=encoder.layers.1] estimating covariance matrix:   0%|          | 0/5 [00:00<?, ?it/s]"
            ]
          },
          "metadata": {},
          "output_type": "display_data"
        },
        {
          "data": {
            "application/vnd.jupyter.widget-view+json": {
              "model_id": "94ea377e4b92433697e423b8a14c9bcf",
              "version_major": 2,
              "version_minor": 0
            },
            "text/plain": [
              "[layer=encoder.layers.1] evaluating reconstruction error:   0%|          | 0/5 [00:00<?, ?it/s]"
            ]
          },
          "metadata": {},
          "output_type": "display_data"
        },
        {
          "data": {
            "application/vnd.jupyter.widget-view+json": {
              "model_id": "999cd85bd0bc42c883489937a5cf3049",
              "version_major": 2,
              "version_minor": 0
            },
            "text/plain": [
              "[layer=encoder.layers.1] evaluating accuracy:   0%|          | 0/5 [00:00<?, ?it/s]"
            ]
          },
          "metadata": {},
          "output_type": "display_data"
        }
      ],
      "source": [
        "def ano():\n",
        "\n",
        "    model = vit_b_16(weights=\"IMAGENET1K_V1\")\n",
        "    layer = \"encoder.layers.1\"\n",
        "    cov = estimators.estimate_cov_mat_at_layer(\n",
        "        model=model,\n",
        "        layer=layer,\n",
        "        dataloader=dataloader,\n",
        "        device=\"cpu\",\n",
        "    )\n",
        "\n",
        "    eigvals, eigvecs = utils.eigh(cov)\n",
        "\n",
        "\n",
        "    d = len(eigvals)\n",
        "\n",
        "    eval_recon = evaluators.ReconstructionErrorWithLowRankProjectionEvaluator()\n",
        "\n",
        "    df1 = eval_recon.evaluate(model=model, layer=layer, dataloader=dataloader, U=eigvecs, arr_ks=[1, 128, d])\n",
        "\n",
        "    eval_acc = evaluators.AccuracyWithLowRankProjectionEvaluator(num_classes=1000)\n",
        "    df2 = eval_acc.evaluate(model=model, layer=layer, dataloader=dataloader, U=eigvecs, arr_ks=[1, 128, d])\n",
        "\n",
        "    return eigvals, df1, df2\n",
        "eigvals, df1, df2 = ano()"
      ]
    },
    {
      "cell_type": "code",
      "execution_count": 7,
      "metadata": {},
      "outputs": [
        {
          "data": {
            "text/plain": [
              "torch.Size([768])"
            ]
          },
          "execution_count": 7,
          "metadata": {},
          "output_type": "execute_result"
        }
      ],
      "source": [
        "eigvals.shape"
      ]
    },
    {
      "cell_type": "code",
      "execution_count": 8,
      "metadata": {},
      "outputs": [
        {
          "data": {
            "text/html": [
              "<div>\n",
              "<style scoped>\n",
              "    .dataframe tbody tr th:only-of-type {\n",
              "        vertical-align: middle;\n",
              "    }\n",
              "\n",
              "    .dataframe tbody tr th {\n",
              "        vertical-align: top;\n",
              "    }\n",
              "\n",
              "    .dataframe thead th {\n",
              "        text-align: right;\n",
              "    }\n",
              "</style>\n",
              "<table border=\"1\" class=\"dataframe\">\n",
              "  <thead>\n",
              "    <tr style=\"text-align: right;\">\n",
              "      <th></th>\n",
              "      <th>k</th>\n",
              "      <th>norm</th>\n",
              "      <th>recon_err</th>\n",
              "      <th>cossim</th>\n",
              "      <th>d</th>\n",
              "    </tr>\n",
              "  </thead>\n",
              "  <tbody>\n",
              "    <tr>\n",
              "      <th>0</th>\n",
              "      <td>1</td>\n",
              "      <td>31.340866</td>\n",
              "      <td>38.154732</td>\n",
              "      <td>-0.017518</td>\n",
              "      <td>768</td>\n",
              "    </tr>\n",
              "    <tr>\n",
              "      <th>1</th>\n",
              "      <td>128</td>\n",
              "      <td>31.340866</td>\n",
              "      <td>0.977067</td>\n",
              "      <td>0.999440</td>\n",
              "      <td>768</td>\n",
              "    </tr>\n",
              "    <tr>\n",
              "      <th>2</th>\n",
              "      <td>768</td>\n",
              "      <td>31.340866</td>\n",
              "      <td>0.000042</td>\n",
              "      <td>1.000000</td>\n",
              "      <td>768</td>\n",
              "    </tr>\n",
              "  </tbody>\n",
              "</table>\n",
              "</div>"
            ],
            "text/plain": [
              "     k       norm  recon_err    cossim    d\n",
              "0    1  31.340866  38.154732 -0.017518  768\n",
              "1  128  31.340866   0.977067  0.999440  768\n",
              "2  768  31.340866   0.000042  1.000000  768"
            ]
          },
          "execution_count": 8,
          "metadata": {},
          "output_type": "execute_result"
        }
      ],
      "source": [
        "df1"
      ]
    },
    {
      "cell_type": "code",
      "execution_count": 9,
      "metadata": {},
      "outputs": [
        {
          "data": {
            "text/html": [
              "<div>\n",
              "<style scoped>\n",
              "    .dataframe tbody tr th:only-of-type {\n",
              "        vertical-align: middle;\n",
              "    }\n",
              "\n",
              "    .dataframe tbody tr th {\n",
              "        vertical-align: top;\n",
              "    }\n",
              "\n",
              "    .dataframe thead th {\n",
              "        text-align: right;\n",
              "    }\n",
              "</style>\n",
              "<table border=\"1\" class=\"dataframe\">\n",
              "  <thead>\n",
              "    <tr style=\"text-align: right;\">\n",
              "      <th></th>\n",
              "      <th>k</th>\n",
              "      <th>acc</th>\n",
              "      <th>xent</th>\n",
              "      <th>d</th>\n",
              "    </tr>\n",
              "  </thead>\n",
              "  <tbody>\n",
              "    <tr>\n",
              "      <th>0</th>\n",
              "      <td>1</td>\n",
              "      <td>0.0</td>\n",
              "      <td>6.769803</td>\n",
              "      <td>768</td>\n",
              "    </tr>\n",
              "    <tr>\n",
              "      <th>1</th>\n",
              "      <td>128</td>\n",
              "      <td>0.0</td>\n",
              "      <td>8.160949</td>\n",
              "      <td>768</td>\n",
              "    </tr>\n",
              "    <tr>\n",
              "      <th>2</th>\n",
              "      <td>768</td>\n",
              "      <td>0.0</td>\n",
              "      <td>8.167736</td>\n",
              "      <td>768</td>\n",
              "    </tr>\n",
              "  </tbody>\n",
              "</table>\n",
              "</div>"
            ],
            "text/plain": [
              "     k  acc      xent    d\n",
              "0    1  0.0  6.769803  768\n",
              "1  128  0.0  8.160949  768\n",
              "2  768  0.0  8.167736  768"
            ]
          },
          "execution_count": 9,
          "metadata": {},
          "output_type": "execute_result"
        }
      ],
      "source": [
        "df2"
      ]
    },
    {
      "cell_type": "code",
      "execution_count": 10,
      "metadata": {
        "id": "lLMCjtK4C5_2"
      },
      "outputs": [
        {
          "name": "stdout",
          "output_type": "stream",
          "text": [
            "all passed!\n"
          ]
        }
      ],
      "source": [
        "print(\"all passed!\")"
      ]
    },
    {
      "cell_type": "markdown",
      "metadata": {},
      "source": [
        "add mlp\n",
        "..."
      ]
    },
    {
      "cell_type": "markdown",
      "metadata": {},
      "source": [
        "add mlp\n",
        "..."
      ]
    }
  ],
  "metadata": {
    "colab": {
      "provenance": []
    },
    "kernelspec": {
      "display_name": ".venv",
      "language": "python",
      "name": "python3"
    },
    "language_info": {
      "codemirror_mode": {
        "name": "ipython",
        "version": 3
      },
      "file_extension": ".py",
      "mimetype": "text/x-python",
      "name": "python",
      "nbconvert_exporter": "python",
      "pygments_lexer": "ipython3",
      "version": "3.12.11"
    }
  },
  "nbformat": 4,
  "nbformat_minor": 0
}
